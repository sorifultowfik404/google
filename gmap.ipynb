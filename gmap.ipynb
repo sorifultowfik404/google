{
 "cells": [
  {
   "cell_type": "code",
   "execution_count": null,
   "metadata": {},
   "outputs": [],
   "source": [
    "import undetected_chromedriver as uc\n",
    "from selenium import webdriver\n",
    "from selenium.webdriver.common.by import By\n",
    "from selenium.webdriver.common.keys import Keys\n",
    "from selenium.webdriver.support import expected_conditions as EC\n",
    "from selenium.webdriver.support.ui import WebDriverWait\n",
    "import time\n",
    "from selenium.webdriver.chrome.service import Service\n",
    "import os\n",
    "import json\n",
    "import pickle\n",
    "# driver = uc.Chrome(\n",
    "            # browser_executable_path='/home/nlp/Desktop/gmail/chromedriver', use_subprocess=True)\n",
    "driver = webdriver.Chrome('/home/nlp/Desktop/gmail/chromedriver')\n"
   ]
  },
  {
   "cell_type": "code",
   "execution_count": null,
   "metadata": {},
   "outputs": [],
   "source": [
    "time.sleep(2)\n",
    "login = 'https://accounts.google.com/v3/signin/identifier?dsh=S1208087047%3A1675508827185072&elo=1&flowName=GlifWebSignIn&flowEntry=ServiceLogin&ifkv=AWnogHeX22xDH8TbadaKTdVJYx6wGh1q5XV6mslCmi8zjXXQLhXZuROkAigzleGOaVgI5GdtDlmy'\n",
    "driver.get(login)\n",
    "time.sleep(2)\n",
    "def visibil_element(by, selector, wait=5):\n",
    "        element = False\n",
    "        if by == 'name':\n",
    "            byselector = By.NAME\n",
    "        if by == 'xpath':\n",
    "            byselector = By.XPATH\n",
    "        if by == 'css':\n",
    "            byselector = By.CSS_SELECTOR\n",
    "        if by == 'id':\n",
    "            byselector = By.ID\n",
    "        try:\n",
    "            element = WebDriverWait(driver, wait).until(\n",
    "                EC.visibility_of_element_located((byselector, selector)))\n",
    "        except Exception as e:\n",
    "            print(e)\n",
    "            element = False\n",
    "        if element == False:\n",
    "            print(\"visibil_element not find: \", selector)\n",
    "        else:\n",
    "            print(selector)\n",
    "        return element\n",
    "def firstLine():\n",
    "    lines = []\n",
    "    with open(r\"input.txt\", 'r') as fp:\n",
    "        lines = fp.readlines()\n",
    "\n",
    "    with open(r\"input.txt\", 'w') as fp:\n",
    "        for number, line in enumerate(lines):\n",
    "            if number != 0:\n",
    "                fp.write(line)\n",
    "    mailinfo = lines[0].split(':')\n",
    "    return mailinfo\n",
    "    \n",
    "def apandLine(listinfo, filename=\"output.txt\"):\n",
    "    inputfile = open(r'{0}'.format(filename), 'a')\n",
    "    line = ':'.join(listinfo)\n",
    "    inputfile.write(f'{line}')\n",
    "    inputfile.close()"
   ]
  },
  {
   "cell_type": "code",
   "execution_count": null,
   "metadata": {},
   "outputs": [],
   "source": [
    "mailinfo= firstLine()\n",
    "email_address = mailinfo[0]\n",
    "email_pass_1 = mailinfo[1].replace('\\\\n','')\n",
    "email_pass = email_pass_1.replace('\\\\t','')\n",
    "recovery_email= mailinfo[2].replace('\\\\n','')\n",
    "recovery_email_2= recovery_email.replace('\\\\n','')\n",
    "recovery_email= recovery_email_2.replace('\\\\t','')\n",
    "send_keys = True\n",
    "time.sleep(2)\n",
    "input_email = visibil_element('css', 'input',5)\n",
    "input_email.send_keys(email_address)\n",
    "time.sleep(2)\n",
    "input_email.send_keys(Keys.RETURN)\n",
    "input_pass =visibil_element('xpath', '//input[@type=\"password\"]',3)\n",
    "input_pass.send_keys(email_pass)\n",
    "input_pass.send_keys(Keys.RETURN)\n",
    "time.sleep(2)"
   ]
  },
  {
   "cell_type": "code",
   "execution_count": null,
   "metadata": {},
   "outputs": [],
   "source": [
    "location = \"https://www.google.com/maps/place/Uttora+Filing+Station/@24.9369901,90.3788192,14z/data=!4m6!3m5!1s0x3757b5cea7e6a927:0x5e75507452584231!8m2!3d24.9436837!4d90.3679726!16s%2Fg%2F11hyshnkz0\"\n",
    "driver.get(location)\n",
    "time.sleep(2)\n",
    "items = driver.find_element(By.XPATH, \"//img[@src='//www.gstatic.com/images/icons/material/system_gm/1x/rate_review_gm_blue_18dp.png']\")\n",
    "items.click()"
   ]
  }
 ],
 "metadata": {
  "kernelspec": {
   "display_name": "Python 3",
   "language": "python",
   "name": "python3"
  },
  "language_info": {
   "codemirror_mode": {
    "name": "ipython",
    "version": 3
   },
   "file_extension": ".py",
   "mimetype": "text/x-python",
   "name": "python",
   "nbconvert_exporter": "python",
   "pygments_lexer": "ipython3",
   "version": "3.8.10"
  },
  "orig_nbformat": 4,
  "vscode": {
   "interpreter": {
    "hash": "916dbcbb3f70747c44a77c7bcd40155683ae19c65e1c03b4aa3499c5328201f1"
   }
  }
 },
 "nbformat": 4,
 "nbformat_minor": 2
}
