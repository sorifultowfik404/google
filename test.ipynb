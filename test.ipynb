{
 "cells": [
  {
   "cell_type": "code",
   "execution_count": 3,
   "metadata": {},
   "outputs": [
    {
     "ename": "WebDriverException",
     "evalue": "Message: unknown error: cannot connect to chrome at 127.0.0.1:62894\nfrom session not created: This version of ChromeDriver only supports Chrome version 94\nCurrent browser version is 106.0.5249.119\nStacktrace:\nBacktrace:\n\tOrdinal0 [0x0031B3C3+2470851]\n\tOrdinal0 [0x002B56A1+2053793]\n\tOrdinal0 [0x001C2438+1057848]\n\tOrdinal0 [0x001E054A+1181002]\n\tOrdinal0 [0x001D9DDB+1154523]\n\tOrdinal0 [0x001D9BC1+1153985]\n\tOrdinal0 [0x00209ADF+1350367]\n\tOrdinal0 [0x0020974A+1349450]\n\tOrdinal0 [0x002055AB+1332651]\n\tOrdinal0 [0x001E2104+1188100]\n\tOrdinal0 [0x001E2F59+1191769]\n\tGetHandleVerifier [0x004A1716+1549414]\n\tGetHandleVerifier [0x0054C207+2248535]\n\tGetHandleVerifier [0x003A676B+521403]\n\tGetHandleVerifier [0x003A5809+517465]\n\tOrdinal0 [0x002BA7DD+2074589]\n\tOrdinal0 [0x002BEB98+2091928]\n\tOrdinal0 [0x002BECD2+2092242]\n\tOrdinal0 [0x002C8581+2131329]\n\tBaseThreadInitThunk [0x76FBFA29+25]\n\tRtlGetAppContainerNamedObjectPath [0x77EA7BBE+286]\n\tRtlGetAppContainerNamedObjectPath [0x77EA7B8E+238]\n\t(No symbol) [0x00000000]\n",
     "output_type": "error",
     "traceback": [
      "\u001b[1;31m---------------------------------------------------------------------------\u001b[0m",
      "\u001b[1;31mWebDriverException\u001b[0m                        Traceback (most recent call last)",
      "\u001b[1;32mc:\\Users\\Md Alamin Hossain\\Desktop\\gmail\\test.ipynb Cell 1\u001b[0m in \u001b[0;36m<cell line: 4>\u001b[1;34m()\u001b[0m\n\u001b[0;32m      <a href='vscode-notebook-cell:/c%3A/Users/Md%20Alamin%20Hossain/Desktop/gmail/test.ipynb#W0sZmlsZQ%3D%3D?line=0'>1</a>\u001b[0m \u001b[39mimport\u001b[39;00m \u001b[39mundetected_chromedriver\u001b[39;00m \u001b[39mas\u001b[39;00m \u001b[39muc\u001b[39;00m\n\u001b[0;32m      <a href='vscode-notebook-cell:/c%3A/Users/Md%20Alamin%20Hossain/Desktop/gmail/test.ipynb#W0sZmlsZQ%3D%3D?line=1'>2</a>\u001b[0m \u001b[39mfrom\u001b[39;00m \u001b[39mpprint\u001b[39;00m \u001b[39mimport\u001b[39;00m pformat\n\u001b[1;32m----> <a href='vscode-notebook-cell:/c%3A/Users/Md%20Alamin%20Hossain/Desktop/gmail/test.ipynb#W0sZmlsZQ%3D%3D?line=3'>4</a>\u001b[0m driver \u001b[39m=\u001b[39m uc\u001b[39m.\u001b[39;49mChrome(enable_cdp_events\u001b[39m=\u001b[39;49m\u001b[39mTrue\u001b[39;49;00m,version_main\u001b[39m=\u001b[39;49m\u001b[39m94\u001b[39;49m)\n\u001b[0;32m      <a href='vscode-notebook-cell:/c%3A/Users/Md%20Alamin%20Hossain/Desktop/gmail/test.ipynb#W0sZmlsZQ%3D%3D?line=5'>6</a>\u001b[0m \u001b[39mdef\u001b[39;00m \u001b[39mmylousyprintfunction\u001b[39m(eventdata):\n\u001b[0;32m      <a href='vscode-notebook-cell:/c%3A/Users/Md%20Alamin%20Hossain/Desktop/gmail/test.ipynb#W0sZmlsZQ%3D%3D?line=6'>7</a>\u001b[0m     \u001b[39mprint\u001b[39m(pformat(eventdata))\n",
      "File \u001b[1;32mc:\\Users\\Md Alamin Hossain\\AppData\\Local\\Programs\\Python\\Python310\\lib\\site-packages\\undetected_chromedriver\\__init__.py:401\u001b[0m, in \u001b[0;36mChrome.__init__\u001b[1;34m(self, options, user_data_dir, driver_executable_path, browser_executable_path, port, enable_cdp_events, service_args, desired_capabilities, advanced_elements, service_log_path, keep_alive, log_level, headless, version_main, patcher_force_close, suppress_welcome, use_subprocess, debug, **kw)\u001b[0m\n\u001b[0;32m    392\u001b[0m     browser \u001b[39m=\u001b[39m subprocess\u001b[39m.\u001b[39mPopen(\n\u001b[0;32m    393\u001b[0m         [options\u001b[39m.\u001b[39mbinary_location, \u001b[39m*\u001b[39moptions\u001b[39m.\u001b[39marguments],\n\u001b[0;32m    394\u001b[0m         stdin\u001b[39m=\u001b[39msubprocess\u001b[39m.\u001b[39mPIPE,\n\u001b[1;32m   (...)\u001b[0m\n\u001b[0;32m    397\u001b[0m         close_fds\u001b[39m=\u001b[39mIS_POSIX,\n\u001b[0;32m    398\u001b[0m     )\n\u001b[0;32m    399\u001b[0m     \u001b[39mself\u001b[39m\u001b[39m.\u001b[39mbrowser_pid \u001b[39m=\u001b[39m browser\u001b[39m.\u001b[39mpid\n\u001b[1;32m--> 401\u001b[0m \u001b[39msuper\u001b[39;49m(Chrome, \u001b[39mself\u001b[39;49m)\u001b[39m.\u001b[39;49m\u001b[39m__init__\u001b[39;49m(\n\u001b[0;32m    402\u001b[0m     executable_path\u001b[39m=\u001b[39;49mpatcher\u001b[39m.\u001b[39;49mexecutable_path,\n\u001b[0;32m    403\u001b[0m     port\u001b[39m=\u001b[39;49mport,\n\u001b[0;32m    404\u001b[0m     options\u001b[39m=\u001b[39;49moptions,\n\u001b[0;32m    405\u001b[0m     service_args\u001b[39m=\u001b[39;49mservice_args,\n\u001b[0;32m    406\u001b[0m     desired_capabilities\u001b[39m=\u001b[39;49mdesired_capabilities,\n\u001b[0;32m    407\u001b[0m     service_log_path\u001b[39m=\u001b[39;49mservice_log_path,\n\u001b[0;32m    408\u001b[0m     keep_alive\u001b[39m=\u001b[39;49mkeep_alive,\n\u001b[0;32m    409\u001b[0m )\n\u001b[0;32m    411\u001b[0m \u001b[39mself\u001b[39m\u001b[39m.\u001b[39mreactor \u001b[39m=\u001b[39m \u001b[39mNone\u001b[39;00m\n\u001b[0;32m    413\u001b[0m \u001b[39mif\u001b[39;00m enable_cdp_events:\n",
      "File \u001b[1;32mc:\\Users\\Md Alamin Hossain\\AppData\\Local\\Programs\\Python\\Python310\\lib\\site-packages\\selenium\\webdriver\\chrome\\webdriver.py:69\u001b[0m, in \u001b[0;36mWebDriver.__init__\u001b[1;34m(self, executable_path, port, options, service_args, desired_capabilities, service_log_path, chrome_options, service, keep_alive)\u001b[0m\n\u001b[0;32m     66\u001b[0m \u001b[39mif\u001b[39;00m \u001b[39mnot\u001b[39;00m service:\n\u001b[0;32m     67\u001b[0m     service \u001b[39m=\u001b[39m Service(executable_path, port, service_args, service_log_path)\n\u001b[1;32m---> 69\u001b[0m \u001b[39msuper\u001b[39;49m()\u001b[39m.\u001b[39;49m\u001b[39m__init__\u001b[39;49m(DesiredCapabilities\u001b[39m.\u001b[39;49mCHROME[\u001b[39m'\u001b[39;49m\u001b[39mbrowserName\u001b[39;49m\u001b[39m'\u001b[39;49m], \u001b[39m\"\u001b[39;49m\u001b[39mgoog\u001b[39;49m\u001b[39m\"\u001b[39;49m,\n\u001b[0;32m     70\u001b[0m                  port, options,\n\u001b[0;32m     71\u001b[0m                  service_args, desired_capabilities,\n\u001b[0;32m     72\u001b[0m                  service_log_path, service, keep_alive)\n",
      "File \u001b[1;32mc:\\Users\\Md Alamin Hossain\\AppData\\Local\\Programs\\Python\\Python310\\lib\\site-packages\\selenium\\webdriver\\chromium\\webdriver.py:92\u001b[0m, in \u001b[0;36mChromiumDriver.__init__\u001b[1;34m(self, browser_name, vendor_prefix, port, options, service_args, desired_capabilities, service_log_path, service, keep_alive)\u001b[0m\n\u001b[0;32m     89\u001b[0m \u001b[39mself\u001b[39m\u001b[39m.\u001b[39mservice\u001b[39m.\u001b[39mstart()\n\u001b[0;32m     91\u001b[0m \u001b[39mtry\u001b[39;00m:\n\u001b[1;32m---> 92\u001b[0m     \u001b[39msuper\u001b[39;49m()\u001b[39m.\u001b[39;49m\u001b[39m__init__\u001b[39;49m(\n\u001b[0;32m     93\u001b[0m         command_executor\u001b[39m=\u001b[39;49mChromiumRemoteConnection(\n\u001b[0;32m     94\u001b[0m             remote_server_addr\u001b[39m=\u001b[39;49m\u001b[39mself\u001b[39;49m\u001b[39m.\u001b[39;49mservice\u001b[39m.\u001b[39;49mservice_url,\n\u001b[0;32m     95\u001b[0m             browser_name\u001b[39m=\u001b[39;49mbrowser_name, vendor_prefix\u001b[39m=\u001b[39;49mvendor_prefix,\n\u001b[0;32m     96\u001b[0m             keep_alive\u001b[39m=\u001b[39;49mkeep_alive, ignore_proxy\u001b[39m=\u001b[39;49m_ignore_proxy),\n\u001b[0;32m     97\u001b[0m         options\u001b[39m=\u001b[39;49moptions)\n\u001b[0;32m     98\u001b[0m \u001b[39mexcept\u001b[39;00m \u001b[39mException\u001b[39;00m:\n\u001b[0;32m     99\u001b[0m     \u001b[39mself\u001b[39m\u001b[39m.\u001b[39mquit()\n",
      "File \u001b[1;32mc:\\Users\\Md Alamin Hossain\\AppData\\Local\\Programs\\Python\\Python310\\lib\\site-packages\\selenium\\webdriver\\remote\\webdriver.py:277\u001b[0m, in \u001b[0;36mWebDriver.__init__\u001b[1;34m(self, command_executor, desired_capabilities, browser_profile, proxy, keep_alive, file_detector, options)\u001b[0m\n\u001b[0;32m    275\u001b[0m \u001b[39mself\u001b[39m\u001b[39m.\u001b[39m_authenticator_id \u001b[39m=\u001b[39m \u001b[39mNone\u001b[39;00m\n\u001b[0;32m    276\u001b[0m \u001b[39mself\u001b[39m\u001b[39m.\u001b[39mstart_client()\n\u001b[1;32m--> 277\u001b[0m \u001b[39mself\u001b[39;49m\u001b[39m.\u001b[39;49mstart_session(capabilities, browser_profile)\n",
      "File \u001b[1;32mc:\\Users\\Md Alamin Hossain\\AppData\\Local\\Programs\\Python\\Python310\\lib\\site-packages\\undetected_chromedriver\\__init__.py:589\u001b[0m, in \u001b[0;36mChrome.start_session\u001b[1;34m(self, capabilities, browser_profile)\u001b[0m\n\u001b[0;32m    587\u001b[0m \u001b[39mif\u001b[39;00m \u001b[39mnot\u001b[39;00m capabilities:\n\u001b[0;32m    588\u001b[0m     capabilities \u001b[39m=\u001b[39m \u001b[39mself\u001b[39m\u001b[39m.\u001b[39moptions\u001b[39m.\u001b[39mto_capabilities()\n\u001b[1;32m--> 589\u001b[0m \u001b[39msuper\u001b[39;49m(selenium\u001b[39m.\u001b[39;49mwebdriver\u001b[39m.\u001b[39;49mchrome\u001b[39m.\u001b[39;49mwebdriver\u001b[39m.\u001b[39;49mWebDriver, \u001b[39mself\u001b[39;49m)\u001b[39m.\u001b[39;49mstart_session(\n\u001b[0;32m    590\u001b[0m     capabilities, browser_profile\n\u001b[0;32m    591\u001b[0m )\n",
      "File \u001b[1;32mc:\\Users\\Md Alamin Hossain\\AppData\\Local\\Programs\\Python\\Python310\\lib\\site-packages\\selenium\\webdriver\\remote\\webdriver.py:370\u001b[0m, in \u001b[0;36mWebDriver.start_session\u001b[1;34m(self, capabilities, browser_profile)\u001b[0m\n\u001b[0;32m    368\u001b[0m w3c_caps \u001b[39m=\u001b[39m _make_w3c_caps(capabilities)\n\u001b[0;32m    369\u001b[0m parameters \u001b[39m=\u001b[39m {\u001b[39m\"\u001b[39m\u001b[39mcapabilities\u001b[39m\u001b[39m\"\u001b[39m: w3c_caps}\n\u001b[1;32m--> 370\u001b[0m response \u001b[39m=\u001b[39m \u001b[39mself\u001b[39;49m\u001b[39m.\u001b[39;49mexecute(Command\u001b[39m.\u001b[39;49mNEW_SESSION, parameters)\n\u001b[0;32m    371\u001b[0m \u001b[39mif\u001b[39;00m \u001b[39m'\u001b[39m\u001b[39msessionId\u001b[39m\u001b[39m'\u001b[39m \u001b[39mnot\u001b[39;00m \u001b[39min\u001b[39;00m response:\n\u001b[0;32m    372\u001b[0m     response \u001b[39m=\u001b[39m response[\u001b[39m'\u001b[39m\u001b[39mvalue\u001b[39m\u001b[39m'\u001b[39m]\n",
      "File \u001b[1;32mc:\\Users\\Md Alamin Hossain\\AppData\\Local\\Programs\\Python\\Python310\\lib\\site-packages\\selenium\\webdriver\\remote\\webdriver.py:435\u001b[0m, in \u001b[0;36mWebDriver.execute\u001b[1;34m(self, driver_command, params)\u001b[0m\n\u001b[0;32m    433\u001b[0m response \u001b[39m=\u001b[39m \u001b[39mself\u001b[39m\u001b[39m.\u001b[39mcommand_executor\u001b[39m.\u001b[39mexecute(driver_command, params)\n\u001b[0;32m    434\u001b[0m \u001b[39mif\u001b[39;00m response:\n\u001b[1;32m--> 435\u001b[0m     \u001b[39mself\u001b[39;49m\u001b[39m.\u001b[39;49merror_handler\u001b[39m.\u001b[39;49mcheck_response(response)\n\u001b[0;32m    436\u001b[0m     response[\u001b[39m'\u001b[39m\u001b[39mvalue\u001b[39m\u001b[39m'\u001b[39m] \u001b[39m=\u001b[39m \u001b[39mself\u001b[39m\u001b[39m.\u001b[39m_unwrap_value(\n\u001b[0;32m    437\u001b[0m         response\u001b[39m.\u001b[39mget(\u001b[39m'\u001b[39m\u001b[39mvalue\u001b[39m\u001b[39m'\u001b[39m, \u001b[39mNone\u001b[39;00m))\n\u001b[0;32m    438\u001b[0m     \u001b[39mreturn\u001b[39;00m response\n",
      "File \u001b[1;32mc:\\Users\\Md Alamin Hossain\\AppData\\Local\\Programs\\Python\\Python310\\lib\\site-packages\\selenium\\webdriver\\remote\\errorhandler.py:247\u001b[0m, in \u001b[0;36mErrorHandler.check_response\u001b[1;34m(self, response)\u001b[0m\n\u001b[0;32m    245\u001b[0m         alert_text \u001b[39m=\u001b[39m value[\u001b[39m'\u001b[39m\u001b[39malert\u001b[39m\u001b[39m'\u001b[39m]\u001b[39m.\u001b[39mget(\u001b[39m'\u001b[39m\u001b[39mtext\u001b[39m\u001b[39m'\u001b[39m)\n\u001b[0;32m    246\u001b[0m     \u001b[39mraise\u001b[39;00m exception_class(message, screen, stacktrace, alert_text)  \u001b[39m# type: ignore[call-arg]  # mypy is not smart enough here\u001b[39;00m\n\u001b[1;32m--> 247\u001b[0m \u001b[39mraise\u001b[39;00m exception_class(message, screen, stacktrace)\n",
      "\u001b[1;31mWebDriverException\u001b[0m: Message: unknown error: cannot connect to chrome at 127.0.0.1:62894\nfrom session not created: This version of ChromeDriver only supports Chrome version 94\nCurrent browser version is 106.0.5249.119\nStacktrace:\nBacktrace:\n\tOrdinal0 [0x0031B3C3+2470851]\n\tOrdinal0 [0x002B56A1+2053793]\n\tOrdinal0 [0x001C2438+1057848]\n\tOrdinal0 [0x001E054A+1181002]\n\tOrdinal0 [0x001D9DDB+1154523]\n\tOrdinal0 [0x001D9BC1+1153985]\n\tOrdinal0 [0x00209ADF+1350367]\n\tOrdinal0 [0x0020974A+1349450]\n\tOrdinal0 [0x002055AB+1332651]\n\tOrdinal0 [0x001E2104+1188100]\n\tOrdinal0 [0x001E2F59+1191769]\n\tGetHandleVerifier [0x004A1716+1549414]\n\tGetHandleVerifier [0x0054C207+2248535]\n\tGetHandleVerifier [0x003A676B+521403]\n\tGetHandleVerifier [0x003A5809+517465]\n\tOrdinal0 [0x002BA7DD+2074589]\n\tOrdinal0 [0x002BEB98+2091928]\n\tOrdinal0 [0x002BECD2+2092242]\n\tOrdinal0 [0x002C8581+2131329]\n\tBaseThreadInitThunk [0x76FBFA29+25]\n\tRtlGetAppContainerNamedObjectPath [0x77EA7BBE+286]\n\tRtlGetAppContainerNamedObjectPath [0x77EA7B8E+238]\n\t(No symbol) [0x00000000]\n"
     ]
    }
   ],
   "source": [
    "import undetected_chromedriver as uc\n",
    "from pprint import pformat\n",
    "\n",
    "driver = uc.Chrome(enable_cdp_events=True)\n",
    "\n",
    "def mylousyprintfunction(eventdata):\n",
    "    print(pformat(eventdata))\n",
    "    \n",
    "# set the callback to Network.dataReceived to print (yeah not much original)\n",
    "driver.add_cdp_listener(\"Network.dataReceived\", mylousyprintfunction)\n",
    "driver.get('https://nowsecure.nl')  # known url using cloudflare's \"under attack mode\"\n",
    "\n",
    "\n",
    "def mylousyprintfunction(message):\n",
    "    print(pformat(message))\n",
    "\n",
    "\n",
    "# for more inspiration checkout the link below\n",
    "# https://chromedevtools.github.io/devtools-protocol/1-3/Network/\n",
    "\n",
    "# and of couse 2 lousy examples\n",
    "driver.add_cdp_listener('Network.requestWillBeSent', mylousyprintfunction)\n",
    "driver.add_cdp_listener('Network.dataReceived', mylousyprintfunction)\n",
    "\n",
    "# hint: a wildcard captures all events!\n",
    "# driver.add_cdp_listener('*', mylousyprintfunction)\n",
    "\n",
    "# now all these events will be printed in my console\n",
    "\n",
    "driver.get('https://nowsecure.nl')"
   ]
  }
 ],
 "metadata": {
  "kernelspec": {
   "display_name": "Python 3.10.6 64-bit",
   "language": "python",
   "name": "python3"
  },
  "language_info": {
   "codemirror_mode": {
    "name": "ipython",
    "version": 3
   },
   "file_extension": ".py",
   "mimetype": "text/x-python",
   "name": "python",
   "nbconvert_exporter": "python",
   "pygments_lexer": "ipython3",
   "version": "3.10.6"
  },
  "orig_nbformat": 4,
  "vscode": {
   "interpreter": {
    "hash": "bc8f9fa305d25bea6f64089c21126f8251c7a347df7560ad7e65e2695bcac4b8"
   }
  }
 },
 "nbformat": 4,
 "nbformat_minor": 2
}
