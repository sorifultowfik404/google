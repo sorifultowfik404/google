{
 "cells": [
  {
   "cell_type": "code",
   "execution_count": 1,
   "metadata": {},
   "outputs": [],
   "source": [
    "import undetected_chromedriver as uc\n",
    "from selenium.webdriver.common.by import By\n",
    "from selenium.webdriver.common.keys import Keys\n",
    "from selenium.common.exceptions import NoSuchElementException\n",
    "from selenium.webdriver.support import expected_conditions as EC\n",
    "import sys\n",
    "from selenium.webdriver.support.ui import WebDriverWait\n",
    "import time\n",
    "from xml.dom.minidom import Element\n",
    "import random\n",
    "from selenium.webdriver.common.action_chains import ActionChains\n",
    "driver = uc.Chrome()\n",
    "time.sleep(2)\n",
    "login = 'https://accounts.google.com/signin/v2/identifier?continue=https%3A%2F%2Fmyaccount.google.com%2Fsigninoptions%2Frescuephone&osid=1&rart=ANgoxcfbj5MICImsby3i6E4WliB4NiCObSuRKGTYLSt03bQVr5EN0ekxnuxLrRGkyz5DKW13ZqMxZkUoZn1oMKAXz3u6m-8mXw&service=accountsettings&flowName=GlifWebSignIn&flowEntry=ServiceLogin'\n",
    "driver.get(login)"
   ]
  },
  {
   "cell_type": "code",
   "execution_count": 2,
   "metadata": {},
   "outputs": [],
   "source": [
    "def visibil_element(by, selector, wait=5):\n",
    "        print(selector)\n",
    "        element = False\n",
    "        if by == 'name':\n",
    "            byselector = By.NAME\n",
    "        if by == 'xpath':\n",
    "            byselector = By.XPATH\n",
    "        if by == 'css':\n",
    "            byselector = By.CSS_SELECTOR\n",
    "        if by == 'id':\n",
    "            byselector = By.ID\n",
    "        try:\n",
    "\n",
    "            element = WebDriverWait(driver, wait).until(\n",
    "                EC.visibility_of_element_located((byselector, selector)))\n",
    "\n",
    "        except Exception as e:\n",
    "            print(e)\n",
    "            element = False\n",
    "        if element == False:\n",
    "            \n",
    "            print(\"visibil_element not find: \", selector)\n",
    "\n",
    "        return element"
   ]
  },
  {
   "cell_type": "code",
   "execution_count": 3,
   "metadata": {},
   "outputs": [],
   "source": [
    "def firstLine():\n",
    "    # list to store file lines\n",
    "    lines = []\n",
    "    # read file\n",
    "    with open(r\"input.txt\", 'r') as fp:\n",
    "        # read an store all lines into list\n",
    "        lines = fp.readlines()\n",
    "\n",
    "    # Write file\n",
    "    with open(r\"input.txt\", 'w') as fp:\n",
    "        for number, line in enumerate(lines):\n",
    "            if number != 0:\n",
    "                fp.write(line)\n",
    "    mailinfo = lines[0].split(':')\n",
    "    return mailinfo\n",
    "    \n",
    "def apandLine(listinfo, filename=\"output.txt\"):\n",
    "    inputfile = open(r'{0}'.format(filename), 'a')\n",
    "    line = ':'.join(listinfo)\n",
    "    inputfile.write(f'{line}')\n",
    "    inputfile.close()\n",
    "\n",
    "def ran_password():\n",
    "        characters =\"abcdefghijklmnopshwyz\"\n",
    "        upper =\"ABCDEFGHIJKLMNOPQPSHWYZ\"\n",
    "        symbol =\"@%\"\n",
    "        num = \"0123456789\"\n",
    "        string = characters+symbol+num+upper\n",
    "        length = 8\n",
    "        password = \"\".join(random.sample(string,length))\n",
    "        print(\"Random password:\",password)\n",
    "        return password"
   ]
  },
  {
   "cell_type": "code",
   "execution_count": 4,
   "metadata": {},
   "outputs": [
    {
     "name": "stdout",
     "output_type": "stream",
     "text": [
      "Random password: GQl7nCi9\n"
     ]
    }
   ],
   "source": [
    "mailinfo= firstLine()\n",
    "email_address = mailinfo[0]\n",
    "email_pass = mailinfo[1]\n",
    "recovery_email= mailinfo[2]\n",
    "new_pass = ran_password()"
   ]
  },
  {
   "cell_type": "code",
   "execution_count": null,
   "metadata": {},
   "outputs": [],
   "source": []
  },
  {
   "cell_type": "code",
   "execution_count": 158,
   "metadata": {},
   "outputs": [
    {
     "name": "stdout",
     "output_type": "stream",
     "text": [
      "input\n",
      "//div[@class=\"o6cuMc\"]\n"
     ]
    },
    {
     "ename": "SystemExit",
     "evalue": "",
     "output_type": "error",
     "traceback": [
      "An exception has occurred, use %tb to see the full traceback.\n",
      "\u001b[1;31mSystemExit\u001b[0m\n"
     ]
    },
    {
     "name": "stderr",
     "output_type": "stream",
     "text": [
      "c:\\Users\\Md Alamin Hossain\\AppData\\Local\\Programs\\Python\\Python310\\lib\\site-packages\\IPython\\core\\interactiveshell.py:3406: UserWarning: To exit: use 'exit', 'quit', or Ctrl-D.\n",
      "  warn(\"To exit: use 'exit', 'quit', or Ctrl-D.\", stacklevel=1)\n"
     ]
    }
   ],
   "source": [
    "### Gmail login Start\n",
    "time.sleep(5)\n",
    "input_email = visibil_element('css', 'input',5)\n",
    "input_email.send_keys(email_address)\n",
    "time.sleep(3)\n",
    "input_email.send_keys(Keys.RETURN)\n",
    "gmail_error = visibil_element('xpath', '//div[@class=\"o6cuMc\"]',3)\n",
    "if gmail_error:\n",
    "    driver.close()\n",
    "    sys.exit()\n",
    "\n",
    "input_pass =visibil_element('xpath', '//input[@type=\"password\"]',3)\n",
    "input_pass.send_keys(email_pass)\n",
    "input_pass.send_keys(Keys.RETURN)\n",
    "\n",
    "pass_error= visibil_element('xpath', '//div[@class=\"OyEIQ uSvLId\"]',3)\n",
    "if pass_error:\n",
    "    driver.close()\n",
    "    sys.exit()\n",
    "### gmail login  end"
   ]
  },
  {
   "cell_type": "code",
   "execution_count": null,
   "metadata": {},
   "outputs": [],
   "source": [
    "remove_number = visibil_element('xpath', '(//span[@class=\"DPvwYc MRcnif\"])[2]',2)\n",
    "input_pass_1 = visibil_element('xpath', '(//input[@type=\"password\"])[1]',2)\n",
    "if input_pass_1  == remove_number:\n",
    "    my_acc_link=None\n",
    "    driver.close()\n",
    "    # sys.exit()"
   ]
  },
  {
   "cell_type": "code",
   "execution_count": null,
   "metadata": {},
   "outputs": [],
   "source": [
    "recovery_link = \"https://myaccount.google.com/recovery/email\"\n",
    "device_check = \"https://myaccount.google.com/u/0/device-activity\"\n",
    "pass_change = \"https://myaccount.google.com/signinoptions/password\"\n",
    "my_acc_link = driver.current_url.split('?')[1]"
   ]
  },
  {
   "cell_type": "code",
   "execution_count": null,
   "metadata": {},
   "outputs": [],
   "source": [
    "### Pass change\n",
    "try:\n",
    "    input_pass_1 = visibil_element('xpath', '(//input[@type=\"password\"])[1]',3)\n",
    "    if input_pass_1:\n",
    "        input_pass_1.send_keys(new_pass)\n",
    "    input_pass_2 = visibil_element('xpath',  '(//input[@type=\"password\"])[2]',3)\n",
    "    if input_pass_2:\n",
    "        input_pass_2.send_keys(new_pass)\n",
    "    pass_submit = visibil_element('xpath','//button[@type=\"submit\"]',3)\n",
    "    if pass_submit:\n",
    "        pass_submit.click()\n",
    "    else:\n",
    "        \n",
    "        pass_submit = visibil_element('xpath', '//button[@type=\"button\"]',3)\n",
    "        if pass_submit:\n",
    "            pass_submit.click()\n",
    "except NoSuchElementException:\n",
    "    pass"
   ]
  },
  {
   "cell_type": "code",
   "execution_count": null,
   "metadata": {},
   "outputs": [],
   "source": [
    "try:\n",
    "    remove_number = visibil_element('xpath', '(//span[@class=\"DPvwYc MRcnif\"])[2]',3)\n",
    "    if remove_number:\n",
    "        remove_number.click()\n",
    "    \n",
    "    remove_number_f = visibil_element('xpath','(//span[@class=\"CwaK9\"]//child::span[@class=\"RveJvd snByac\"])[4]',3)\n",
    "    if remove_number_f:\n",
    "        remove_number_f.click()\n",
    "except NoSuchElementException:\n",
    "    pass\n",
    "\n",
    "my_acc_link = driver.current_url.split('?')[1]"
   ]
  },
  {
   "cell_type": "code",
   "execution_count": null,
   "metadata": {},
   "outputs": [],
   "source": [
    "### check Device\n",
    "try:\n",
    "    device_check_link = f'{device_check}?{my_acc_link}'\n",
    "    driver.get(device_check_link)\n",
    "    time.sleep(2)\n",
    "    check_device_count = len(driver.find_elements(By.XPATH, '//div[@class=\"Ivdcjd\"]'))\n",
    "    check_device_count_f = check_device_count - 1\n",
    "    for x in range(0,check_device_count_f):\n",
    "        device_log_out_format_value = 2\n",
    "        time.sleep(2)\n",
    "        device_log_out = visibil_element('xpath','(//div[@class=\"Ivdcjd\"])[{0}]'.format(device_log_out_format_value),5)\n",
    "        if device_log_out:\n",
    "            device_log_out.click()\n",
    "        device_log_out_format_value += 1\n",
    "        try:\n",
    "            device_log_out_f = visibil_element('xpath','//span[text()=\"Sign out\"]//parent::button[@type=\"button\"]',3)\n",
    "            if device_log_out_f:\n",
    "                device_log_out_f.click()\n",
    "        except NoSuchElementException:\n",
    "            device_log_out_f = visibil_element('xpath','(//button[@type=\"button\"])[3]',3)\n",
    "            if device_log_out_f:\n",
    "                device_log_out_f.click()\n",
    "        device_log_out_f =visibil_element('xpath', '(//span[@class=\"VfPpkd-vQzf8d\"])[4]',3)\n",
    "        if device_log_out_f:\n",
    "            device_log_out_f.click()\n",
    "        try:\n",
    "            okk_click =visibil_element('xpath','(//button[@jsname=\"LgbsSe\"]//child::span)[2]',3)\n",
    "            if okk_click:\n",
    "                okk_click.click()\n",
    "        except NoSuchElementException:\n",
    "            pass\n",
    "        time.sleep(3)\n",
    "except NoSuchElementException:\n",
    "    pass\n",
    "\n",
    "my_acc_link = driver.current_url.split('?')[1]"
   ]
  },
  {
   "cell_type": "code",
   "execution_count": null,
   "metadata": {},
   "outputs": [],
   "source": [
    "### Pass change\n",
    "try:\n",
    "    pass_change_link = f'{pass_change}?{my_acc_link}'\n",
    "    driver.get(pass_change_link)\n",
    "    time.sleep(2)\n",
    "    input_pass_1 = driver.find_element(By.XPATH, '(//input[@type=\"password\"])[1]').send_keys(new_pass)\n",
    "    input_pass_2 = driver.find_element(By.XPATH, '(//input[@type=\"password\"])[2]').send_keys(new_pass)\n",
    "    time.sleep(1)\n",
    "    pass_submit = driver.find_element(By.XPATH, '//button[@type=\"submit\"]').click()\n",
    "    time.sleep(2)\n",
    "    print(\"Your Password: \",new_pass)\n",
    "except NoSuchElementException:\n",
    "    pass"
   ]
  },
  {
   "cell_type": "code",
   "execution_count": null,
   "metadata": {},
   "outputs": [],
   "source": [
    "### Gmail name\n",
    "try:\n",
    "    gmail_link_for_mail = 'https://myaccount.google.com/personal-info'\n",
    "    driver.get(gmail_link_for_mail)\n",
    "    new_gmail = driver.find_element(By.XPATH, '(//div[@class=\"bJCr1d\"])[4]').text\n",
    "except NoSuchElementException:\n",
    "    pass\n",
    "\n",
    "mailinfo[0]=new_gmail\n",
    "mailinfo[1]=new_pass\n",
    "apandLine(mailinfo)"
   ]
  },
  {
   "cell_type": "code",
   "execution_count": null,
   "metadata": {},
   "outputs": [],
   "source": [
    "### Recovery\n",
    "try:\n",
    "    recovery_link_f = f'{recovery_link}?{my_acc_link}'\n",
    "    driver.get(recovery_link_f)\n",
    "    time.sleep(2)\n",
    "    input_recovery_clear = driver.find_element(By.XPATH, '(//input[@type=\"text\"])[2]').clear()\n",
    "    time.sleep(1)\n",
    "    input_recovery = visibil_element('xpath', '(//input[@type=\"text\"])[2]',3)\n",
    "    input_recovery.send_keys(recovery_email)\n",
    "    \n",
    "    rec_submit = visibil_element('xpath', '//button[@type=\"submit\"]',3)\n",
    "    \n",
    "    # if rec_submit:\n",
    "    #     rec_submit.click()\n",
    "\n",
    "    rec_submit = visibil_element('xpath', '//button[@type=\"submit\"]',3)\n",
    "    driver.execute_script(\"arguments[0].click();\", rec_submit)\n",
    "\n",
    "    time.sleep(2)\n",
    "    print(\"try success\")\n",
    "    driver.close()\n",
    "    # sys.exit()\n",
    "except:\n",
    "    print(\"Except Function\")\n",
    "    driver.close()\n",
    "    # sys.exit()\n"
   ]
  }
 ],
 "metadata": {
  "kernelspec": {
   "display_name": "Python 3.10.6 64-bit",
   "language": "python",
   "name": "python3"
  },
  "language_info": {
   "codemirror_mode": {
    "name": "ipython",
    "version": 3
   },
   "file_extension": ".py",
   "mimetype": "text/x-python",
   "name": "python",
   "nbconvert_exporter": "python",
   "pygments_lexer": "ipython3",
   "version": "3.10.6"
  },
  "orig_nbformat": 4,
  "vscode": {
   "interpreter": {
    "hash": "bc8f9fa305d25bea6f64089c21126f8251c7a347df7560ad7e65e2695bcac4b8"
   }
  }
 },
 "nbformat": 4,
 "nbformat_minor": 2
}
