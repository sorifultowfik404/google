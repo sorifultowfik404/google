{
 "cells": [
  {
   "cell_type": "code",
   "execution_count": 2,
   "metadata": {},
   "outputs": [
    {
     "name": "stderr",
     "output_type": "stream",
     "text": [
      "/tmp/ipykernel_8500/91589112.py:15: DeprecationWarning: executable_path has been deprecated, please pass in a Service object\n",
      "  driver = webdriver.Chrome(executable_path='/home/nlp/Desktop/gmail/chromedriver',chrome_options=options)\n",
      "/tmp/ipykernel_8500/91589112.py:15: DeprecationWarning: use options instead of chrome_options\n",
      "  driver = webdriver.Chrome(executable_path='/home/nlp/Desktop/gmail/chromedriver',chrome_options=options)\n"
     ]
    }
   ],
   "source": [
    "import undetected_chromedriver as uc\n",
    "from selenium import webdriver\n",
    "from selenium.webdriver.common.by import By\n",
    "from selenium.webdriver.common.keys import Keys\n",
    "from selenium.webdriver.support import expected_conditions as EC\n",
    "from selenium.webdriver.support.ui import WebDriverWait\n",
    "import time\n",
    "from selenium.webdriver.chrome.service import Service\n",
    "import os\n",
    "import json\n",
    "import pickle\n",
    "options = webdriver.ChromeOptions()\n",
    "driver = uc.Chrome(\n",
    "            browser_executable_path='/home/nlp/Desktop/gmail/chromedriver', use_subprocess=True)\n",
    "# driver = webdriver.Chrome(executable_path='/home/nlp/Desktop/gmail/chromedriver',chrome_options=options)\n"
   ]
  },
  {
   "cell_type": "code",
   "execution_count": 3,
   "metadata": {},
   "outputs": [],
   "source": [
    "time.sleep(2)\n",
    "login = 'https://accounts.google.com/v3/signin/identifier?dsh=S1208087047%3A1675508827185072&elo=1&flowName=GlifWebSignIn&flowEntry=ServiceLogin&ifkv=AWnogHeX22xDH8TbadaKTdVJYx6wGh1q5XV6mslCmi8zjXXQLhXZuROkAigzleGOaVgI5GdtDlmy'\n",
    "driver.get(login)\n",
    "time.sleep(2)\n",
    "def visibil_element(by, selector, wait=5):\n",
    "        element = False\n",
    "        if by == 'name':\n",
    "            byselector = By.NAME\n",
    "        if by == 'xpath':\n",
    "            byselector = By.XPATH\n",
    "        if by == 'css':\n",
    "            byselector = By.CSS_SELECTOR\n",
    "        if by == 'id':\n",
    "            byselector = By.ID\n",
    "        try:\n",
    "            element = WebDriverWait(driver, wait).until(\n",
    "                EC.visibility_of_element_located((byselector, selector)))\n",
    "        except Exception as e:\n",
    "            print(e)\n",
    "            element = False\n",
    "        if element == False:\n",
    "            print(\"visibil_element not find: \", selector)\n",
    "        else:\n",
    "            print(selector)\n",
    "        return element"
   ]
  },
  {
   "cell_type": "code",
   "execution_count": 4,
   "metadata": {},
   "outputs": [],
   "source": [
    "def firstLine():\n",
    "    lines = []\n",
    "    with open(r\"input.txt\", 'r') as fp:\n",
    "        lines = fp.readlines()\n",
    "\n",
    "    with open(r\"input.txt\", 'w') as fp:\n",
    "        for number, line in enumerate(lines):\n",
    "            if number != 0:\n",
    "                fp.write(line)\n",
    "    mailinfo = lines[0].split(':')\n",
    "    return mailinfo\n",
    "    \n",
    "def apandLine(listinfo, filename=\"output.txt\"):\n",
    "    inputfile = open(r'{0}'.format(filename), 'a')\n",
    "    line = ':'.join(listinfo)\n",
    "    inputfile.write(f'{line}')\n",
    "    inputfile.close()"
   ]
  },
  {
   "cell_type": "code",
   "execution_count": 5,
   "metadata": {},
   "outputs": [
    {
     "name": "stdout",
     "output_type": "stream",
     "text": [
      "input\n",
      "Message: \n",
      "Stacktrace:\n",
      "#0 0x55886fae1303 <unknown>\n",
      "#1 0x55886f8b5d37 <unknown>\n",
      "#2 0x55886f8f25b2 <unknown>\n",
      "#3 0x55886f8f26c1 <unknown>\n",
      "#4 0x55886f92cb34 <unknown>\n",
      "#5 0x55886f9129ad <unknown>\n",
      "#6 0x55886f92a88c <unknown>\n",
      "#7 0x55886f912753 <unknown>\n",
      "#8 0x55886f8e5a14 <unknown>\n",
      "#9 0x55886f8e6b7e <unknown>\n",
      "#10 0x55886fb3032e <unknown>\n",
      "#11 0x55886fb33c0e <unknown>\n",
      "#12 0x55886fb16610 <unknown>\n",
      "#13 0x55886fb34c23 <unknown>\n",
      "#14 0x55886fb08545 <unknown>\n",
      "#15 0x55886fb556a8 <unknown>\n",
      "#16 0x55886fb55836 <unknown>\n",
      "#17 0x55886fb70d13 <unknown>\n",
      "#18 0x7fceb5b37609 start_thread\n",
      "\n",
      "visibil_element not find:  //input[@type=\"password\"]\n"
     ]
    },
    {
     "ename": "AttributeError",
     "evalue": "'bool' object has no attribute 'send_keys'",
     "output_type": "error",
     "traceback": [
      "\u001b[0;31m---------------------------------------------------------------------------\u001b[0m",
      "\u001b[0;31mAttributeError\u001b[0m                            Traceback (most recent call last)",
      "Cell \u001b[0;32mIn[5], line 16\u001b[0m\n\u001b[1;32m     13\u001b[0m input_email\u001b[39m.\u001b[39msend_keys(Keys\u001b[39m.\u001b[39mRETURN)\n\u001b[1;32m     15\u001b[0m input_pass \u001b[39m=\u001b[39mvisibil_element(\u001b[39m'\u001b[39m\u001b[39mxpath\u001b[39m\u001b[39m'\u001b[39m, \u001b[39m'\u001b[39m\u001b[39m//input[@type=\u001b[39m\u001b[39m\"\u001b[39m\u001b[39mpassword\u001b[39m\u001b[39m\"\u001b[39m\u001b[39m]\u001b[39m\u001b[39m'\u001b[39m,\u001b[39m3\u001b[39m)\n\u001b[0;32m---> 16\u001b[0m input_pass\u001b[39m.\u001b[39;49msend_keys(email_pass)\n\u001b[1;32m     17\u001b[0m input_pass\u001b[39m.\u001b[39msend_keys(Keys\u001b[39m.\u001b[39mRETURN)\n\u001b[1;32m     18\u001b[0m time\u001b[39m.\u001b[39msleep(\u001b[39m2\u001b[39m)\n",
      "\u001b[0;31mAttributeError\u001b[0m: 'bool' object has no attribute 'send_keys'"
     ]
    }
   ],
   "source": [
    "mailinfo= firstLine()\n",
    "email_address = mailinfo[0]\n",
    "email_pass_1 = mailinfo[1].replace('\\\\n','')\n",
    "email_pass = email_pass_1.replace('\\\\t','')\n",
    "recovery_email= mailinfo[2].replace('\\\\n','')\n",
    "recovery_email_2= recovery_email.replace('\\\\n','')\n",
    "recovery_email= recovery_email_2.replace('\\\\t','')\n",
    "send_keys = True\n",
    "time.sleep(2)\n",
    "input_email = visibil_element('css', 'input',5)\n",
    "input_email.send_keys(email_address)\n",
    "time.sleep(2)\n",
    "input_email.send_keys(Keys.RETURN)\n",
    "\n",
    "input_pass =visibil_element('xpath', '//input[@type=\"password\"]',3)\n",
    "input_pass.send_keys(email_pass)\n",
    "input_pass.send_keys(Keys.RETURN)\n",
    "time.sleep(2)\n"
   ]
  },
  {
   "cell_type": "code",
   "execution_count": null,
   "metadata": {},
   "outputs": [],
   "source": [
    "def seleniumSaveCookie(email_address):\n",
    "    try:\n",
    "        file_name = email_address.split('@')[0]\n",
    "        file_name =file_name+'.json'\n",
    "        \n",
    "        json_obj = json.loads(json.dumps(driver.get_cookies(), default=str))\n",
    "        with open(file_name,'w',encoding='utf-8') as outfile:\n",
    "            json.dump(json_obj, outfile, ensure_ascii=False, indent=4)\n",
    "        print('Cookie file successfully created.')\n",
    "    except Exception as e:\n",
    "        print(e)\n",
    "seleniumSaveCookie(email_address)\n",
    "mailinfo[0]=email_address\n",
    "mailinfo[1]=email_pass\n",
    "mailinfo[2]=recovery_email\n",
    "apandLine(mailinfo)\n",
    "# driver.close()"
   ]
  },
  {
   "cell_type": "code",
   "execution_count": null,
   "metadata": {},
   "outputs": [],
   "source": [
    "import os\n",
    "import time\n",
    "\n",
    "from selenium import webdriver\n",
    "from selenium.webdriver.common.by import By\n",
    "from selenium.webdriver.chrome.options import Options\n",
    "from selenium.webdriver.support.ui import WebDriverWait\n",
    "from selenium.webdriver.support import expected_conditions as EC\n",
    "\n",
    "from webdriver_manager.chrome import ChromeDriverManager\n",
    "\n",
    "GOOGLE_LOGIN_PATH = os.getenv('GOOGLE_LOGIN_PATH')  # Google login bypass URL\n",
    "# user_data_dir     = os.getenv('USER_DATA_DIR')    # USER-DATA-DIR\n",
    "\n",
    "GOOGLE_ID = os.getenv('GOOGLE_ID') # google id\n",
    "GOOGLE_PW = os.getenv('GOOGLE_PW') # google pwd\n",
    "\n",
    "options = webdriver.ChromeOptions()\n",
    "# options.add_argument(\"user-data-dir=\" + user_data_dir)\n",
    "driver = webdriver.Chrome(executable_path=ChromeDriverManager().install(), chrome_options=options) \n",
    "\n",
    "# Selenium Google Login bypass URL\n",
    "driver.get(GOOGLE_LOGIN_PATH)\n",
    "\n",
    "# email login \n",
    "login = WebDriverWait(driver, 10).until(EC.presence_of_element_located((By.ID, 'identifierId')))\n",
    "login.send_keys(GOOGLE_ID)\n",
    "\n",
    "# click next\n",
    "driver.find_element_by_id('identifierNext').click()\n",
    "\n",
    "# password\n",
    "password = WebDriverWait(driver, 10).until(EC.presence_of_element_located((By.ID, 'password')))\n",
    "password = password.find_element_by_tag_name('input')\n",
    "password.send_keys(GOOGLE_PW)\n",
    "\n",
    "# click next\n",
    "driver.find_element_by_id('passwordNext').click()\n",
    "\n",
    "# wait\n",
    "# time.sleep(100)\n",
    "\n",
    "# close window\n",
    "driver.close()"
   ]
  }
 ],
 "metadata": {
  "kernelspec": {
   "display_name": "Python 3",
   "language": "python",
   "name": "python3"
  },
  "language_info": {
   "codemirror_mode": {
    "name": "ipython",
    "version": 3
   },
   "file_extension": ".py",
   "mimetype": "text/x-python",
   "name": "python",
   "nbconvert_exporter": "python",
   "pygments_lexer": "ipython3",
   "version": "3.8.10"
  },
  "orig_nbformat": 4,
  "vscode": {
   "interpreter": {
    "hash": "916dbcbb3f70747c44a77c7bcd40155683ae19c65e1c03b4aa3499c5328201f1"
   }
  }
 },
 "nbformat": 4,
 "nbformat_minor": 2
}
